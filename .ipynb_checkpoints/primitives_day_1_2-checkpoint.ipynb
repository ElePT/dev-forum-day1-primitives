{
 "cells": [
  {
   "cell_type": "markdown",
   "id": "9b77b904",
   "metadata": {},
   "source": [
    "# Qiskit Runtime Primitives Track"
   ]
  },
  {
   "cell_type": "markdown",
   "id": "ca0b6d94",
   "metadata": {
    "slideshow": {
     "slide_type": "slide"
    }
   },
   "source": [
    "# Part 2: Applied Example\n"
   ]
  },
  {
   "cell_type": "markdown",
   "id": "68a291e5",
   "metadata": {},
   "source": [
    "**Task:** To set up ibmq_qasm_simulator and map a basic noise model for an IBM Quantum hardware device in Qiskit Runtime, and use this noise model to perform noisy simulations of `QuantumCircuits` using `Sampler` and `Estimator` to study the effects of errors which occur on real devices."
   ]
  },
  {
   "cell_type": "markdown",
   "id": "23ae3dc5",
   "metadata": {
    "slideshow": {
     "slide_type": "slide"
    }
   },
   "source": [
    "# Step 1: Set up environment"
   ]
  },
  {
   "cell_type": "code",
   "execution_count": null,
   "id": "c22a0090",
   "metadata": {},
   "outputs": [],
   "source": [
    "from qiskit_ibm_runtime import QiskitRuntimeService\n",
    "from tokens import IQP_TOKEN\n",
    "\n",
    "# save account\n",
    "QiskitRuntimeService.save_account(channel=\"ibm_quantum\", token=IQP_TOKEN, overwrite=True)\n",
    "\n",
    "# start service\n",
    "service = QiskitRuntimeService(channel=\"ibm_quantum\")"
   ]
  },
  {
   "cell_type": "markdown",
   "id": "488b8602",
   "metadata": {
    "slideshow": {
     "slide_type": "slide"
    }
   },
   "source": [
    "# Step 2: Define target circuit"
   ]
  },
  {
   "cell_type": "code",
   "execution_count": null,
   "id": "cbd957c3",
   "metadata": {},
   "outputs": [],
   "source": [
    "from qiskit.circuit import Parameter\n",
    "from qiskit import QuantumCircuit\n",
    "\n",
    "theta = Parameter('theta')\n",
    "\n",
    "qc = QuantumCircuit(2,1)\n",
    "qc.x(1)\n",
    "qc.h(0)\n",
    "qc.cp(theta,0,1)\n",
    "qc.h(0)\n",
    "qc.measure(0,0)\n",
    "\n",
    "qc.draw('mpl')"
   ]
  },
  {
   "cell_type": "markdown",
   "id": "967fcf3b",
   "metadata": {},
   "source": [
    "The circuit shown by the previous cell is parameterized with the eigenvalue being kicked back into qubit 0 to be measured. The amount of kickback will be determined by the parameter theta. Now in the following cell, we shall define our parameters for our circuit as a list. The parameters here will be from to divided over 50 evenly spaced points."
   ]
  },
  {
   "cell_type": "code",
   "execution_count": null,
   "id": "347eb615",
   "metadata": {},
   "outputs": [],
   "source": [
    "import numpy as np\n",
    "\n",
    "phases = np.linspace(0, 2*np.pi, 50)\n",
    "\n",
    "# phases need to be expressed as a list of lists in order to work\n",
    "individual_phases = [[phase] for phase in phases]"
   ]
  },
  {
   "cell_type": "markdown",
   "id": "989e56ad",
   "metadata": {
    "slideshow": {
     "slide_type": "slide"
    }
   },
   "source": [
    "# Step 3: Select backend and set up primitive options"
   ]
  },
  {
   "cell_type": "markdown",
   "id": "00961568",
   "metadata": {},
   "source": [
    "First, let's define \"ibmq-qasm-simulator\" as our target backend"
   ]
  },
  {
   "cell_type": "code",
   "execution_count": null,
   "id": "248356b5",
   "metadata": {},
   "outputs": [],
   "source": [
    "backend = # use the simulator"
   ]
  },
  {
   "cell_type": "markdown",
   "id": "95da0c6c",
   "metadata": {},
   "source": [
    "The `ibmq-qasm-simulation` can mimic real backends if provided with the following information: the device's **noise model**, **basis gates** and **coupling map**. In this example, we will extract such information from a fake backend, and then passed on to the simulator through the primitive options"
   ]
  },
  {
   "cell_type": "code",
   "execution_count": null,
   "id": "b0b53943",
   "metadata": {},
   "outputs": [],
   "source": [
    "from qiskit.providers.fake_provider import FakeManila\n",
    "from qiskit_aer.noise import NoiseModel\n",
    "\n",
    "# Instantiate fake backend\n",
    "fake_backend = FakeManila()\n",
    "\n",
    "# Extract noise model\n",
    "noise_model = NoiseModel.from_backend(fake_backend)\n",
    "\n",
    "# Extract basis gates\n",
    "basis_gates = fake_backend.configuration().basis_gates\n",
    "\n",
    "# Extract coupling map\n",
    "coupling_map = fake_backend.configuration().coupling_map"
   ]
  },
  {
   "cell_type": "markdown",
   "id": "bd7d737c",
   "metadata": {},
   "source": [
    "In this example we will compare the execution with an without error mitigations. For this means, we will define two different set of options."
   ]
  },
  {
   "cell_type": "markdown",
   "id": "714064ef",
   "metadata": {},
   "source": [
    "First, let's define the following options for the non-mitigated execution:\n",
    "\n",
    "- number of shots: 1000\n",
    "- optimization level = 0\n",
    "- error mitigation level = 0\n",
    "- simulator options:\n",
    "    - simulator seed = 42\n",
    "    - noise model = `noise_model`\n",
    "    - basis gates = `basis_gates`\n",
    "    - coupling map = `coupling_map`"
   ]
  },
  {
   "cell_type": "code",
   "execution_count": null,
   "id": "7cca129c",
   "metadata": {},
   "outputs": [],
   "source": [
    "from qiskit_ibm_runtime import Options\n",
    "\n",
    "options_without_em = # set options here"
   ]
  },
  {
   "cell_type": "markdown",
   "id": "0275f4fa",
   "metadata": {},
   "source": [
    "Now, let's modify the error mitigation level to 1, and define a new set of options:\n",
    "\n",
    "- number of shots: 1000\n",
    "- optimization level = 0\n",
    "- error mitigation level = 1\n",
    "- simulator options:\n",
    "    - simulator seed = 42\n",
    "    - noise model = `noise_model`\n",
    "    - basis gates = `basis_gates`\n",
    "    - coupling map = `coupling_map`"
   ]
  },
  {
   "cell_type": "code",
   "execution_count": null,
   "id": "d2872f20",
   "metadata": {},
   "outputs": [],
   "source": [
    "options_with_em = # set options here"
   ]
  },
  {
   "cell_type": "markdown",
   "id": "d0bac10a",
   "metadata": {
    "slideshow": {
     "slide_type": "slide"
    }
   },
   "source": [
    "# Step 4: Launch!"
   ]
  },
  {
   "cell_type": "markdown",
   "id": "c73cec5a",
   "metadata": {},
   "source": [
    "Now, let's open a runtime session, and within that session, define two `Sampler` instances, each using one of the option instances defined above. "
   ]
  },
  {
   "cell_type": "code",
   "execution_count": null,
   "id": "43ba8a0d",
   "metadata": {},
   "outputs": [],
   "source": [
    "from qiskit_ibm_runtime import Sampler, Session\n",
    "\n",
    "# insert here session syntax\n",
    "\n",
    "sampler_1 = # define sampler 1 here\n",
    "job_1 = # run sampler with circuit and parameters defined above\n",
    "result_1 = job_1.result()\n",
    "prob_values_1 = [1-dist[0] for dist in result_1.quasi_dists]\n",
    "\n",
    "sampler_2 = # define sampler 1 here\n",
    "job_2 = # run sampler with circuit and parameters defined above\n",
    "result_2 = job_2.result()\n",
    "prob_values_2 = [1-dist[0] for dist in result_2.quasi_dists]\n"
   ]
  },
  {
   "cell_type": "markdown",
   "id": "049685c7",
   "metadata": {},
   "source": [
    "Finally, let's plot and see our results:"
   ]
  },
  {
   "cell_type": "code",
   "execution_count": null,
   "id": "ffd08a6e",
   "metadata": {},
   "outputs": [],
   "source": [
    "import matplotlib.pyplot as plt\n",
    "\n",
    "plt.plot(phases, prob_values_1, 'o', label='Noisy')\n",
    "plt.plot(phases, prob_values_2, 'o', label='Mitigated')\n",
    "plt.plot(phases, np.sin(phases/2,)**2, label='Theory')\n",
    "plt.xlabel('Phase')\n",
    "plt.ylabel('Probability')\n",
    "plt.legend()"
   ]
  }
 ],
 "metadata": {
  "celltoolbar": "Slideshow",
  "kernelspec": {
   "display_name": "Python 3 (ipykernel)",
   "language": "python",
   "name": "python3"
  },
  "language_info": {
   "codemirror_mode": {
    "name": "ipython",
    "version": 3
   },
   "file_extension": ".py",
   "mimetype": "text/x-python",
   "name": "python",
   "nbconvert_exporter": "python",
   "pygments_lexer": "ipython3",
   "version": "3.9.16"
  }
 },
 "nbformat": 4,
 "nbformat_minor": 5
}
